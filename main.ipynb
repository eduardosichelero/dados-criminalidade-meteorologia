{
 "cells": [
  {
   "cell_type": "code",
   "execution_count": null,
   "id": "11264e46",
   "metadata": {},
   "outputs": [],
   "source": [
    "import pandas as pd\n",
    "# Carregando os datasets\n",
    "df_2021 = pd.read_csv(\"./Dados Criminais 2021 - 2025/dados_2021.csv\", sep=\";\", encoding=\"latin1\", low_memory=False)\n",
    "df_2022 = pd.read_csv(\"./Dados Criminais 2021 - 2025/dados_2022.csv\", sep=\";\", encoding=\"latin1\", low_memory=False)\n",
    "df_2023 = pd.read_csv(\"./Dados Criminais 2021 - 2025/dados_2023.csv\", sep=\";\", encoding=\"latin1\", low_memory=False)\n",
    "df_2024 = pd.read_csv(\"./Dados Criminais 2021 - 2025/dados_2024.csv\", sep=\";\", encoding=\"latin1\", low_memory=False)\n",
    "df_2025 = pd.read_csv(\"./Dados Criminais 2021 - 2025/dados_2025.csv\", sep=\";\", encoding=\"latin1\", low_memory=False)\n",
    "\n",
    "print(\"Datasets carregados:\")\n",
    "print(\"2021 ->\", df_2021.shape, \"linhas e colunas\")\n",
    "print(\"2022 ->\", df_2022.shape, \"linhas e colunas\")\n",
    "print(\"2023 ->\", df_2023.shape, \"linhas e colunas\")\n",
    "print(\"2024 ->\", df_2024.shape, \"linhas e colunas\")\n",
    "print(\"2025 ->\", df_2025.shape, \"linhas e colunas\")\n",
    "\n",
    "df_2022.head()\n"
   ]
  },
  {
   "cell_type": "code",
   "execution_count": null,
   "id": "e3f3f2bc",
   "metadata": {},
   "outputs": [],
   "source": [
    "# Concatenar em um único dataframe\n",
    "df_crimes = pd.concat([df_2021, df_2022, df_2023, df_2024, df_2025], ignore_index=True)\n",
    "print(\"Dataframe consolidado:\", df_crimes.shape)\n",
    "df_crimes.head()\n"
   ]
  },
  {
   "cell_type": "code",
   "execution_count": 139,
   "id": "b763877d",
   "metadata": {},
   "outputs": [
    {
     "name": "stdout",
     "output_type": "stream",
     "text": [
      "CHECKPOINT ETAPA 1 - COLETA DE DADOS\n",
      "Total de registros consolidados: 2,835,255\n",
      "Total de colunas: 14\n",
      "Arquivos coletados: dados_2021.csv, dados_2022.csv, dados_2023.csv, dados_2024.csv, dados_2025.csv\n"
     ]
    }
   ],
   "source": [
    "print(\"CHECKPOINT ETAPA 1 - COLETA DE DADOS\")\n",
    "print(f\"Total de registros consolidados: {df_crimes.shape[0]:,}\")\n",
    "print(f\"Total de colunas: {df_crimes.shape[1]}\")\n",
    "print(\"Arquivos coletados: dados_2021.csv, dados_2022.csv, dados_2023.csv, dados_2024.csv, dados_2025.csv\")\n"
   ]
  },
  {
   "cell_type": "code",
   "execution_count": 140,
   "id": "9afd1eef",
   "metadata": {},
   "outputs": [
    {
     "name": "stderr",
     "output_type": "stream",
     "text": [
      "C:\\Users\\Eduardo\\AppData\\Local\\Temp\\ipykernel_16876\\3453818640.py:2: SettingWithCopyWarning: \n",
      "A value is trying to be set on a copy of a slice from a DataFrame\n",
      "\n",
      "See the caveats in the documentation: https://pandas.pydata.org/pandas-docs/stable/user_guide/indexing.html#returning-a-view-versus-a-copy\n",
      "  df_crimes.rename(columns={\n"
     ]
    },
    {
     "data": {
      "text/html": [
       "<div>\n",
       "<style scoped>\n",
       "    .dataframe tbody tr th:only-of-type {\n",
       "        vertical-align: middle;\n",
       "    }\n",
       "\n",
       "    .dataframe tbody tr th {\n",
       "        vertical-align: top;\n",
       "    }\n",
       "\n",
       "    .dataframe thead th {\n",
       "        text-align: right;\n",
       "    }\n",
       "</style>\n",
       "<table border=\"1\" class=\"dataframe\">\n",
       "  <thead>\n",
       "    <tr style=\"text-align: right;\">\n",
       "      <th></th>\n",
       "      <th>sequencia</th>\n",
       "      <th>data_fato</th>\n",
       "      <th>hora_fato</th>\n",
       "      <th>grupo_fato</th>\n",
       "      <th>tipo_enquadramento</th>\n",
       "      <th>tipo_fato</th>\n",
       "      <th>municipio_fato</th>\n",
       "      <th>local_fato</th>\n",
       "      <th>bairro</th>\n",
       "      <th>quantidade_vitimas</th>\n",
       "      <th>idade_vitima</th>\n",
       "      <th>sexo_vitma</th>\n",
       "      <th>cor_vitma</th>\n",
       "      <th>...</th>\n",
       "    </tr>\n",
       "  </thead>\n",
       "  <tbody>\n",
       "    <tr>\n",
       "      <th>0</th>\n",
       "      <td>1</td>\n",
       "      <td>01/10/2021</td>\n",
       "      <td>00:01:00</td>\n",
       "      <td>CRIMES</td>\n",
       "      <td>INCENDIO DOLOSO</td>\n",
       "      <td>Consumado</td>\n",
       "      <td>NOVA ALVORADA</td>\n",
       "      <td>RESIDENCIA</td>\n",
       "      <td>Jardim Bela Vista</td>\n",
       "      <td>1</td>\n",
       "      <td>20.0</td>\n",
       "      <td>Masculino</td>\n",
       "      <td>Branca</td>\n",
       "      <td>NaN</td>\n",
       "    </tr>\n",
       "    <tr>\n",
       "      <th>1</th>\n",
       "      <td>2</td>\n",
       "      <td>01/10/2021</td>\n",
       "      <td>00:01:00</td>\n",
       "      <td>CRIMES</td>\n",
       "      <td>VIOLENCIA PSICOLOGICA CONTRA MULHER ART 147B</td>\n",
       "      <td>Consumado</td>\n",
       "      <td>SANTA CRUZ DO SUL</td>\n",
       "      <td>RESIDENCIA</td>\n",
       "      <td>Santa Vitória</td>\n",
       "      <td>1</td>\n",
       "      <td>66.0</td>\n",
       "      <td>Feminino</td>\n",
       "      <td>Branca</td>\n",
       "      <td>NaN</td>\n",
       "    </tr>\n",
       "    <tr>\n",
       "      <th>2</th>\n",
       "      <td>3</td>\n",
       "      <td>01/10/2021</td>\n",
       "      <td>00:01:00</td>\n",
       "      <td>CRIMES</td>\n",
       "      <td>FURTO SIMPLES EM RESIDENCIA</td>\n",
       "      <td>Consumado</td>\n",
       "      <td>SANTA ROSA</td>\n",
       "      <td>RESIDENCIA</td>\n",
       "      <td>Cruzeiro</td>\n",
       "      <td>1</td>\n",
       "      <td>49.0</td>\n",
       "      <td>Feminino</td>\n",
       "      <td>Branca</td>\n",
       "      <td>NaN</td>\n",
       "    </tr>\n",
       "    <tr>\n",
       "      <th>3</th>\n",
       "      <td>4</td>\n",
       "      <td>01/10/2021</td>\n",
       "      <td>00:01:00</td>\n",
       "      <td>CRIMES</td>\n",
       "      <td>IMPORTUNACAO SEXUAL</td>\n",
       "      <td>Consumado</td>\n",
       "      <td>RIO GRANDE</td>\n",
       "      <td>VIA PUBLICA</td>\n",
       "      <td>Vila Santa Tereza</td>\n",
       "      <td>1</td>\n",
       "      <td>42.0</td>\n",
       "      <td>Feminino</td>\n",
       "      <td>Branca</td>\n",
       "      <td>NaN</td>\n",
       "    </tr>\n",
       "    <tr>\n",
       "      <th>4</th>\n",
       "      <td>5</td>\n",
       "      <td>01/10/2021</td>\n",
       "      <td>00:01:00</td>\n",
       "      <td>CRIMES</td>\n",
       "      <td>OUTRAS FRAUDES</td>\n",
       "      <td>Consumado</td>\n",
       "      <td>PORTO ALEGRE</td>\n",
       "      <td>VIA PUBLICA</td>\n",
       "      <td>Azenha</td>\n",
       "      <td>1</td>\n",
       "      <td>51.0</td>\n",
       "      <td>Feminino</td>\n",
       "      <td>Parda</td>\n",
       "      <td>NaN</td>\n",
       "    </tr>\n",
       "    <tr>\n",
       "      <th>...</th>\n",
       "      <td>...</td>\n",
       "      <td>...</td>\n",
       "      <td>...</td>\n",
       "      <td>...</td>\n",
       "      <td>...</td>\n",
       "      <td>...</td>\n",
       "      <td>...</td>\n",
       "      <td>...</td>\n",
       "      <td>...</td>\n",
       "      <td>...</td>\n",
       "      <td>...</td>\n",
       "      <td>...</td>\n",
       "      <td>...</td>\n",
       "      <td>...</td>\n",
       "    </tr>\n",
       "    <tr>\n",
       "      <th>2835250</th>\n",
       "      <td>504335</td>\n",
       "      <td>31/08/2025</td>\n",
       "      <td>23:50:00</td>\n",
       "      <td>CRIMES</td>\n",
       "      <td>DANO</td>\n",
       "      <td>Consumado</td>\n",
       "      <td>CAPAO DA CANOA</td>\n",
       "      <td>RESIDENCIA</td>\n",
       "      <td>Capao Novo/05</td>\n",
       "      <td>1</td>\n",
       "      <td>27.0</td>\n",
       "      <td>Feminino</td>\n",
       "      <td>Branca</td>\n",
       "      <td>NaN</td>\n",
       "    </tr>\n",
       "    <tr>\n",
       "      <th>2835251</th>\n",
       "      <td>504336</td>\n",
       "      <td>31/08/2025</td>\n",
       "      <td>23:50:00</td>\n",
       "      <td>CRIMES</td>\n",
       "      <td>FURTO DE TELEFONE CELULAR</td>\n",
       "      <td>Consumado</td>\n",
       "      <td>ESTEIO</td>\n",
       "      <td>OUTROS</td>\n",
       "      <td>NaN</td>\n",
       "      <td>1</td>\n",
       "      <td>43.0</td>\n",
       "      <td>Feminino</td>\n",
       "      <td>Branca</td>\n",
       "      <td>NaN</td>\n",
       "    </tr>\n",
       "    <tr>\n",
       "      <th>2835252</th>\n",
       "      <td>504337</td>\n",
       "      <td>31/08/2025</td>\n",
       "      <td>23:55:00</td>\n",
       "      <td>CRIMES</td>\n",
       "      <td>AMEACA</td>\n",
       "      <td>Consumado</td>\n",
       "      <td>PORTO ALEGRE</td>\n",
       "      <td>RESIDENCIA</td>\n",
       "      <td>Medianeira</td>\n",
       "      <td>1</td>\n",
       "      <td>53.0</td>\n",
       "      <td>Feminino</td>\n",
       "      <td>Branca</td>\n",
       "      <td>NaN</td>\n",
       "    </tr>\n",
       "    <tr>\n",
       "      <th>2835253</th>\n",
       "      <td>504338</td>\n",
       "      <td>31/08/2025</td>\n",
       "      <td>23:56:00</td>\n",
       "      <td>CRIMES</td>\n",
       "      <td>ESTELIONATO</td>\n",
       "      <td>Consumado</td>\n",
       "      <td>VIAMAO</td>\n",
       "      <td>RESIDENCIA</td>\n",
       "      <td>Sítio São José</td>\n",
       "      <td>0</td>\n",
       "      <td>NaN</td>\n",
       "      <td>NaN</td>\n",
       "      <td>NaN</td>\n",
       "      <td>NaN</td>\n",
       "    </tr>\n",
       "    <tr>\n",
       "      <th>2835254</th>\n",
       "      <td>504339</td>\n",
       "      <td>31/08/2025</td>\n",
       "      <td>23:59:00</td>\n",
       "      <td>CRIMES</td>\n",
       "      <td>FURTO/ARROMBAMENTO DE RESIDENCIA</td>\n",
       "      <td>Consumado</td>\n",
       "      <td>BARRA DO RIBEIRO</td>\n",
       "      <td>OUTROS</td>\n",
       "      <td>NaN</td>\n",
       "      <td>1</td>\n",
       "      <td>57.0</td>\n",
       "      <td>Masculino</td>\n",
       "      <td>Branca</td>\n",
       "      <td>NaN</td>\n",
       "    </tr>\n",
       "  </tbody>\n",
       "</table>\n",
       "<p>2835255 rows × 14 columns</p>\n",
       "</div>"
      ],
      "text/plain": [
       "        sequencia   data_fato hora_fato grupo_fato  \\\n",
       "0               1  01/10/2021  00:01:00     CRIMES   \n",
       "1               2  01/10/2021  00:01:00     CRIMES   \n",
       "2               3  01/10/2021  00:01:00     CRIMES   \n",
       "3               4  01/10/2021  00:01:00     CRIMES   \n",
       "4               5  01/10/2021  00:01:00     CRIMES   \n",
       "...           ...         ...       ...        ...   \n",
       "2835250    504335  31/08/2025  23:50:00     CRIMES   \n",
       "2835251    504336  31/08/2025  23:50:00     CRIMES   \n",
       "2835252    504337  31/08/2025  23:55:00     CRIMES   \n",
       "2835253    504338  31/08/2025  23:56:00     CRIMES   \n",
       "2835254    504339  31/08/2025  23:59:00     CRIMES   \n",
       "\n",
       "                                   tipo_enquadramento  tipo_fato  \\\n",
       "0                                     INCENDIO DOLOSO  Consumado   \n",
       "1        VIOLENCIA PSICOLOGICA CONTRA MULHER ART 147B  Consumado   \n",
       "2                         FURTO SIMPLES EM RESIDENCIA  Consumado   \n",
       "3                                 IMPORTUNACAO SEXUAL  Consumado   \n",
       "4                                      OUTRAS FRAUDES  Consumado   \n",
       "...                                               ...        ...   \n",
       "2835250                                          DANO  Consumado   \n",
       "2835251                     FURTO DE TELEFONE CELULAR  Consumado   \n",
       "2835252                                        AMEACA  Consumado   \n",
       "2835253                                   ESTELIONATO  Consumado   \n",
       "2835254              FURTO/ARROMBAMENTO DE RESIDENCIA  Consumado   \n",
       "\n",
       "            municipio_fato   local_fato             bairro quantidade_vitimas  \\\n",
       "0            NOVA ALVORADA   RESIDENCIA  Jardim Bela Vista                  1   \n",
       "1        SANTA CRUZ DO SUL   RESIDENCIA      Santa Vitória                  1   \n",
       "2               SANTA ROSA   RESIDENCIA           Cruzeiro                  1   \n",
       "3               RIO GRANDE  VIA PUBLICA  Vila Santa Tereza                  1   \n",
       "4             PORTO ALEGRE  VIA PUBLICA             Azenha                  1   \n",
       "...                    ...          ...                ...                ...   \n",
       "2835250     CAPAO DA CANOA   RESIDENCIA      Capao Novo/05                  1   \n",
       "2835251             ESTEIO       OUTROS                NaN                  1   \n",
       "2835252       PORTO ALEGRE   RESIDENCIA         Medianeira                  1   \n",
       "2835253             VIAMAO   RESIDENCIA     Sítio São José                  0   \n",
       "2835254   BARRA DO RIBEIRO       OUTROS                NaN                  1   \n",
       "\n",
       "         idade_vitima sexo_vitma cor_vitma  ...  \n",
       "0                20.0  Masculino    Branca  NaN  \n",
       "1                66.0   Feminino    Branca  NaN  \n",
       "2                49.0   Feminino    Branca  NaN  \n",
       "3                42.0   Feminino    Branca  NaN  \n",
       "4                51.0   Feminino     Parda  NaN  \n",
       "...               ...        ...       ...  ...  \n",
       "2835250          27.0   Feminino    Branca  NaN  \n",
       "2835251          43.0   Feminino    Branca  NaN  \n",
       "2835252          53.0   Feminino    Branca  NaN  \n",
       "2835253           NaN        NaN       NaN  NaN  \n",
       "2835254          57.0  Masculino    Branca  NaN  \n",
       "\n",
       "[2835255 rows x 14 columns]"
      ]
     },
     "execution_count": 140,
     "metadata": {},
     "output_type": "execute_result"
    }
   ],
   "source": [
    "# Renomear colunas principais\n",
    "df_crimes.rename(columns={\n",
    "    \"Sequência\": \"sequencia\",\n",
    "    \"Data Fato\": \"data_fato\", \n",
    "    \"Hora Fato\": \"hora_fato\",\n",
    "    \"Grupo Fato\": \"grupo_fato\",\n",
    "    \"Tipo Enquadramento\": \"tipo_enquadramento\",\n",
    "    \"Tipo Fato\": \"tipo_fato\",\n",
    "    \"Municipio Fato\": \"municipio_fato\",\n",
    "    \"Local Fato\": \"local_fato\",\n",
    "    \"Bairro\": \"bairro\",\n",
    "    \"Quantidade Vítimas\": \"quantidade_vitimas\",\n",
    "    \"Idade Vítima\": \"idade_vitima\",\n",
    "    \"Sexo Vítima\": \"sexo_vitma\",\n",
    "    \"Cor Vítima\": \"cor_vitma\",\n",
    "}, inplace=True)\n",
    "df_crimes\n"
   ]
  },
  {
   "cell_type": "code",
   "execution_count": 141,
   "id": "1aadb78c",
   "metadata": {},
   "outputs": [
    {
     "name": "stdout",
     "output_type": "stream",
     "text": [
      "=== ANÁLISE EXPLORATÓRIA GERAL ===\n",
      "Total de registros: 2,835,255\n",
      "Período dos dados: 01/01/2022 a 31/12/2024\n",
      "Municípios únicos: 498\n",
      "\n",
      "Principais municípios:\n",
      "municipio_fato\n",
      "PORTO ALEGRE     484021\n",
      "CAXIAS DO SUL    110240\n",
      "CANOAS           103658\n",
      "SANTA MARIA       83727\n",
      "PELOTAS           79509\n",
      "NOVO HAMBURGO     64598\n",
      "GRAVATAI          62252\n",
      "VIAMAO            59579\n",
      "SAO LEOPOLDO      59378\n",
      "PASSO FUNDO       59124\n",
      "Name: count, dtype: int64\n"
     ]
    }
   ],
   "source": [
    "\n",
    "# Análise exploratória geral\n",
    "print(\"=== ANÁLISE EXPLORATÓRIA GERAL ===\")\n",
    "print(f\"Total de registros: {df_crimes.shape[0]:,}\")\n",
    "print(f\"Período dos dados: {df_crimes['data_fato'].min()} a {df_crimes['data_fato'].max()}\")\n",
    "print(f\"Municípios únicos: {df_crimes['municipio_fato'].nunique()}\")\n",
    "print(\"\\nPrincipais municípios:\")\n",
    "print(df_crimes['municipio_fato'].value_counts().head(10))"
   ]
  },
  {
   "cell_type": "code",
   "execution_count": null,
   "id": "27a036b5",
   "metadata": {},
   "outputs": [],
   "source": [
    "# Remover colunas 'unnamed' geradas por excesso de separadores ou células vazias\n",
    "df_crimes = df_crimes.loc[:, ~df_crimes.columns.str.lower().str.startswith('unnamed')]"
   ]
  },
  {
   "cell_type": "code",
   "execution_count": null,
   "id": "b984fa17",
   "metadata": {},
   "outputs": [],
   "source": [
    "df_crimes.head()"
   ]
  },
  {
   "cell_type": "code",
   "execution_count": null,
   "id": "cf5a4019",
   "metadata": {},
   "outputs": [],
   "source": [
    "df_pf = df_crimes[df_crimes['municipio_fato'].str.upper() == 'PASSO FUNDO']\n",
    "df_pf.head()"
   ]
  },
  {
   "cell_type": "code",
   "execution_count": null,
   "id": "f8d00fb7",
   "metadata": {},
   "outputs": [],
   "source": [
    "df_pf.shape"
   ]
  },
  {
   "cell_type": "code",
   "execution_count": null,
   "id": "da77b718",
   "metadata": {},
   "outputs": [],
   "source": [
    "# Verificar as colunas do dataframe de Passo Fundo\n",
    "print(\"Colunas do dataframe de Passo Fundo:\")\n",
    "print(\"=\" * 40)\n",
    "for i, col in enumerate(df_pf.columns, 1):\n",
    "    print(f\"{i:2d}. {col}\")\n",
    "print(\"=\" * 40)\n",
    "print(f\"Total: {len(df_pf.columns)} colunas\")"
   ]
  },
  {
   "cell_type": "code",
   "execution_count": null,
   "id": "9446e123",
   "metadata": {},
   "outputs": [],
   "source": [
    "# Remover a última coluna (vazia)\n",
    "df_pf = df_pf.iloc[:, :-1]  # Remove a última coluna\n",
    "print(f\"Coluna vazia removida. Novo shape: {df_pf.shape}\")"
   ]
  },
  {
   "cell_type": "code",
   "execution_count": null,
   "id": "f8c4e04b",
   "metadata": {},
   "outputs": [],
   "source": [
    "\n",
    "df_pf.head()\n"
   ]
  },
  {
   "cell_type": "code",
   "execution_count": null,
   "id": "03ac5f9e",
   "metadata": {
    "vscode": {
     "languageId": "ruby"
    }
   },
   "outputs": [],
   "source": [
    "df_pf['idade_vitima'].fillna(df_pf['idade_vitima'].mean(), inplace=True)\n"
   ]
  },
  {
   "cell_type": "code",
   "execution_count": null,
   "id": "edef4c26",
   "metadata": {
    "vscode": {
     "languageId": "ruby"
    }
   },
   "outputs": [],
   "source": [
    "\n",
    "df_pf.head()\n"
   ]
  },
  {
   "cell_type": "code",
   "execution_count": null,
   "id": "1c406b8f",
   "metadata": {
    "vscode": {
     "languageId": "ruby"
    }
   },
   "outputs": [],
   "source": [
    "import numpy as np\n",
    "df_pf.replace(\"Sem informação\", np.nan, inplace=True)\n",
    "# Numéricas -> média\n",
    "df_pf['idade_vitima'] = df_pf['idade_vitima'].fillna(df_pf['idade_vitima'].mean())\n",
    "\n",
    "# Categóricas -> categoria Ignorado\n",
    "df_pf['sexo_vitma'] = df_pf['sexo_vitma'].fillna(\"Ignorado\")\n",
    "df_pf['cor_vitma']  = df_pf['cor_vitma'].fillna(\"Ignorado\")\n"
   ]
  },
  {
   "cell_type": "code",
   "execution_count": null,
   "id": "cede547f",
   "metadata": {
    "vscode": {
     "languageId": "ruby"
    }
   },
   "outputs": [],
   "source": [
    "\n",
    "df_pf.head()\n"
   ]
  },
  {
   "cell_type": "code",
   "execution_count": null,
   "id": "4b70f87a",
   "metadata": {
    "vscode": {
     "languageId": "ruby"
    }
   },
   "outputs": [],
   "source": [
    "# removendo duplicatas\n",
    "\n",
    "df_pf = df_pf.drop_duplicates()\n",
    "df_pf.shape\n"
   ]
  },
  {
   "cell_type": "code",
   "execution_count": null,
   "id": "870823bb",
   "metadata": {
    "vscode": {
     "languageId": "ruby"
    }
   },
   "outputs": [],
   "source": [
    "# formata a data\n",
    "df_pf['data_fato'] = pd.to_datetime(df_pf['data_fato'], format='%d/%m/%Y')\n"
   ]
  },
  {
   "cell_type": "code",
   "execution_count": null,
   "id": "aaa41732",
   "metadata": {
    "vscode": {
     "languageId": "ruby"
    }
   },
   "outputs": [],
   "source": [
    "df_pf.head()"
   ]
  },
  {
   "cell_type": "code",
   "execution_count": null,
   "id": "21ad6594",
   "metadata": {
    "vscode": {
     "languageId": "ruby"
    }
   },
   "outputs": [],
   "source": [
    "import unidecode\n",
    "\n",
    "# Selecionar apenas colunas categóricas (object/string)\n",
    "categoricas = df_pf.select_dtypes(include=['object']).columns\n",
    "\n",
    "# Padronizar os valores\n",
    "for col in categoricas:\n",
    "    df_pf[col] = (\n",
    "        df_pf[col]\n",
    "        .astype(str)                       # garante string\n",
    "        .str.strip()                       # remove espaços extras\n",
    "        .str.lower()                       # tudo minúsculo\n",
    "        .apply(lambda x: unidecode.unidecode(x))  # remove acentos\n",
    "    )\n"
   ]
  },
  {
   "cell_type": "code",
   "execution_count": null,
   "id": "e0462cdf",
   "metadata": {
    "vscode": {
     "languageId": "ruby"
    }
   },
   "outputs": [],
   "source": [
    "for col in categoricas:\n",
    "    print(f\"\\nValores únicos em {col}:\")\n",
    "    print(df_pf[col].unique())\n"
   ]
  },
  {
   "cell_type": "code",
   "execution_count": null,
   "id": "57b7bbe3",
   "metadata": {
    "vscode": {
     "languageId": "ruby"
    }
   },
   "outputs": [],
   "source": [
    "## codigo do gpt para limpeza geral \n",
    "\n",
    "import unicodedata\n",
    "import numpy as np\n",
    "\n",
    "# Função para remover acentos\n",
    "def remover_acentos(texto):\n",
    "    if isinstance(texto, str):\n",
    "        return ''.join(\n",
    "            c for c in unicodedata.normalize('NFKD', texto) if not unicodedata.combining(c)\n",
    "        )\n",
    "    return texto\n",
    "\n",
    "# 1. Remover duplicatas\n",
    "df_pf = df_pf.drop_duplicates()\n",
    "\n",
    "# 2. Substituir \"Sem informação\" por NaN em todo o DataFrame\n",
    "df_pf.replace(\"Sem informação\", np.nan, inplace=True)\n",
    "\n",
    "# 3. Identificar colunas numéricas e categóricas\n",
    "numericas = df_pf.select_dtypes(include=['int64', 'float64']).columns\n",
    "categoricas = df_pf.select_dtypes(include=['object']).columns\n",
    "\n",
    "# 4. Preencher NaN em numéricas com média\n",
    "for col in numericas:\n",
    "    df_pf[col] = df_pf[col].fillna(df_pf[col].mean())\n",
    "\n",
    "# 5. Preencher NaN em categóricas com \"ignorado\"\n",
    "for col in categoricas:\n",
    "    df_pf[col] = df_pf[col].fillna(\"ignorado\")\n",
    "    # Padronizar: minúsculas, remover espaços e acentos\n",
    "    df_pf[col] = df_pf[col].astype(str).str.strip().str.lower().apply(remover_acentos)\n",
    "\n",
    "# 6. Converter colunas de data e hora para datetime\n",
    "df_pf['data_fato'] = pd.to_datetime(df_pf['data_fato'], format='%d/%m/%Y', errors='coerce')\n",
    "df_pf['hora_fato'] = pd.to_datetime(df_pf['hora_fato'], format='%H:%M:%S', errors='coerce').dt.time\n",
    "\n",
    "# 7. Garantir que colunas originalmente numéricas permaneçam numéricas\n",
    "for col in numericas:\n",
    "    df_pf[col] = pd.to_numeric(df_pf[col], errors='coerce')\n",
    "\n",
    "# Conferir o resultado\n",
    "print(\"DataFrame tratado:\")\n",
    "print(df_pf.head())\n"
   ]
  },
  {
   "cell_type": "markdown",
   "id": "41b5052f",
   "metadata": {},
   "source": [
    "Todas as linhas duplicadas foram removidas usando drop_duplicates().\n",
    "Qualquer ocorrência de \"Sem informação\" foi substituída por NaN para uniformizar os valores ausentes.\n",
    "Colunas numéricas (ex.: idade_vitima, quantidade_vitimas): valores ausentes foram preenchidos com a média da coluna, garantindo que não haja lacunas para cálculos estatísticos ou agregações.\n",
    "\n",
    "Colunas categóricas (ex.: sexo_vitma, cor_vitma, tipo_fato): valores ausentes foram preenchidos com a categoria \"ignorado\", preservando a consistência e permitindo análises categóricas sem perder linhas.\n",
    "\n",
    "Todas as colunas categóricas foram padronizadas:\n",
    "\n",
    "Convertidas para minúsculas.\n",
    "\n",
    "Espaços extras no início/fim foram removidos.\n",
    "\n",
    "Acentos foram eliminados (Homicídio → homicidio).\n",
    "Coluna data_fato convertida para datetime no formato YYYY-MM-DD.\n",
    "\n",
    "Coluna hora_fato convertida para datetime.time, permitindo manipulação temporal correta.\n",
    "Todas as colunas originalmente numéricas foram mantidas como int64 ou float64, evitando conversão involuntária para string durante a padronização.\n",
    "\n",
    "O DataFrame agora está:\n",
    "\n",
    "Livre de duplicatas\n",
    "\n",
    "Sem valores ausentes ou inconsistentes\n",
    "\n",
    "Categórico padronizado e uniforme\n",
    "\n",
    "Datas e horas em formatos apropriados\n",
    "\n",
    "Pronto para integração com outros datasets ou sistemas de análise"
   ]
  },
  {
   "cell_type": "code",
   "execution_count": null,
   "id": "ab211be0",
   "metadata": {
    "vscode": {
     "languageId": "ruby"
    }
   },
   "outputs": [],
   "source": []
  }
 ],
 "metadata": {
  "kernelspec": {
   "display_name": "Python 3",
   "language": "python",
   "name": "python3"
  },
  "language_info": {
   "codemirror_mode": {
    "name": "ipython",
    "version": 3
   },
   "file_extension": ".py",
   "mimetype": "text/x-python",
   "name": "python",
   "nbconvert_exporter": "python",
   "pygments_lexer": "ipython3",
   "version": "3.13.4"
  }
 },
 "nbformat": 4,
 "nbformat_minor": 5
}
